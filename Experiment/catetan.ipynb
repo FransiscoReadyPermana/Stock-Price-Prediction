{
 "cells": [
  {
   "attachments": {},
   "cell_type": "markdown",
   "metadata": {},
   "source": [
    "# SMA dan EMA"
   ]
  },
  {
   "attachments": {},
   "cell_type": "markdown",
   "metadata": {},
   "source": [
    "<li> kalo current ada diatas garis sma biasanya dia bakal naik. contoh kalo current nya ada diatas sma yg longterm nah dia longtermnya bakal naik. nah itu kalo dibaca sendiri2\n",
    "‌<li> kalo di kombo sma 50 sama sma 200 cara bacanya itu kalo misal 50 ada dibawah 200 nah short term bakal negatif tp longterm masih positif. nah kalo kyk gt tandanya dia bakal ada tren nurun, tp buat longterm nya akan naik lg. gt deh sebaliknya."
   ]
  },
  {
   "attachments": {},
   "cell_type": "markdown",
   "metadata": {},
   "source": [
    "secara konsep sma sm ema itu sama. bedanya ada di bagaimana dia hitung averagenya. nah kalo kata dijurnal, EMA itu lbh bagus karna dia lebih reaktif terhadap kondisi"
   ]
  },
  {
   "attachments": {},
   "cell_type": "markdown",
   "metadata": {},
   "source": [
    "# RSI"
   ]
  },
  {
   "attachments": {},
   "cell_type": "markdown",
   "metadata": {},
   "source": [
    "itu adalah indikator yang menggambarkan apakah suatu saham itu oversold atau overbought. <br> kalo dia mendekati garis oversold, biasanya dia bakal pindah ke arah sebaliknya."
   ]
  },
  {
   "attachments": {},
   "cell_type": "markdown",
   "metadata": {},
   "source": [
    "bisa pake pctchange"
   ]
  },
  {
   "cell_type": "code",
   "execution_count": null,
   "metadata": {},
   "outputs": [],
   "source": [
    "import numpy as np\n",
    "from sklearn.tree import DecisionTreeRegressor\n",
    "\n",
    "class RandomForestRegressor:\n",
    "    def __init__(self, n_estimators, max_depth=None):\n",
    "        self.n_estimators = n_estimators\n",
    "        self.max_depth = max_depth\n",
    "        self.trees = []\n",
    "\n",
    "    def fit(self, X, y):\n",
    "        self.X = X\n",
    "        self.y = y\n",
    "        self.n_samples, self.n_features = X.shape\n",
    "\n",
    "        for i in range(self.n_estimators):\n",
    "            # membuat bootstrapped sample\n",
    "            bootstrapped_idx = np.random.choice(self.n_samples, self.n_samples, replace=True)\n",
    "            X_bootstrapped = X[bootstrapped_idx]\n",
    "            y_bootstrapped = y[bootstrapped_idx]\n",
    "\n",
    "            # membuat estimator baru\n",
    "            tree = DecisionTreeRegressor(max_depth=self.max_depth)\n",
    "\n",
    "            # melatih estimator dengan bootstrapped sample\n",
    "            tree.fit(X_bootstrapped, y_bootstrapped)\n",
    "\n",
    "            # menambahkan estimator baru ke daftar estimator\n",
    "            self.trees.append(tree)\n",
    "\n",
    "    def predict(self, X):\n",
    "        predictions = np.zeros((X.shape[0], self.n_estimators))\n",
    "        for i, tree in enumerate(self.trees):\n",
    "            predictions[:, i] = tree.predict(X)\n",
    "        return np.mean(predictions, axis=1)"
   ]
  },
  {
   "cell_type": "code",
   "execution_count": null,
   "metadata": {},
   "outputs": [],
   "source": [
    "# membuat objek RandomForestRegressor\n",
    "rf = RandomForestRegressor(n_estimators=10, max_depth=2)\n",
    "\n",
    "# menentukan data latih\n",
    "X = np.array([[1, 2, 3], [4, 5, 6], [7, 8, 9]])\n",
    "y = np.array([1, 2, 3])\n",
    "\n",
    "# melatih model\n",
    "rf.fit(X, y)\n",
    "\n",
    "# membuat prediksi\n",
    "X_new = np.array([[10, 11, 12], [13, 14, 15]])\n",
    "y_pred = rf.predict(X_new)\n",
    "\n",
    "print(y_pred)"
   ]
  },
  {
   "cell_type": "code",
   "execution_count": null,
   "metadata": {},
   "outputs": [],
   "source": [
    "import numpy as np\n",
    "\n",
    "class GradientBoostingRegressor:\n",
    "    def __init__(self, n_estimators, learning_rate):\n",
    "        self.n_estimators = n_estimators\n",
    "        self.learning_rate = learning_rate\n",
    "        self.trees = []\n",
    "\n",
    "    def fit(self, X, y):\n",
    "        self.X = X\n",
    "        self.y = y\n",
    "        self.n_samples = len(y)\n",
    "\n",
    "        y_pred = np.zeros(self.n_samples)\n",
    "        for i in range(self.n_estimators):\n",
    "            # menghitung gradient dari prediksi sebelumnya\n",
    "            gradient = y - y_pred\n",
    "\n",
    "            # melatih estimator baru pada gradient\n",
    "            tree = DecisionTreeRegressor(max_depth=3)\n",
    "            tree.fit(X, gradient)\n",
    "\n",
    "            # menambahkan estimator baru ke daftar estimator\n",
    "            self.trees.append(tree)\n",
    "\n",
    "            # memperbarui prediksi dengan estimator baru\n",
    "            y_pred += self.learning_rate * tree.predict(X)\n",
    "\n",
    "    def predict(self, X):\n",
    "        y_pred = np.zeros(len(X))\n",
    "        for tree in self.trees:\n",
    "            y_pred += self.learning_rate * tree.predict(X)\n",
    "        return y_pred\n"
   ]
  },
  {
   "cell_type": "code",
   "execution_count": null,
   "metadata": {},
   "outputs": [],
   "source": [
    "import numpy as np\n",
    "\n",
    "# membuat data sintetis\n",
    "np.random.seed(0)\n",
    "X = np.sort(5 * np.random.rand(80, 1), axis=0)\n",
    "y = np.sin(X).ravel()\n",
    "y[::5] += 3 * (0.5 - np.random.rand(16))\n",
    "\n",
    "# membuat objek GradientBoostingRegressor\n",
    "gbr = GradientBoostingRegressor(n_estimators=100, learning_rate=0.1)\n",
    "\n",
    "# melatih model\n",
    "gbr.fit(X, y)\n",
    "\n",
    "# membuat prediksi pada data baru\n",
    "X_test = np.arange(0.0, 5.0, 0.01)[:, np.newaxis]\n",
    "y_pred = gbr.predict(X_test)\n",
    "\n",
    "# menampilkan hasil\n",
    "import matplotlib.pyplot as plt\n",
    "plt.scatter(X, y, s=20, edgecolor=\"black\", c=\"darkorange\", label=\"data\")\n",
    "plt.plot(X_test, y_pred, color=\"cornflowerblue\", label=\"prediksi\", linewidth=2)\n",
    "plt.xlabel(\"data\")\n",
    "plt.ylabel(\"target\")\n",
    "plt.title(\"Gradient Boosting Regression\")\n",
    "plt.legend()\n",
    "plt.show()\n"
   ]
  },
  {
   "cell_type": "code",
   "execution_count": 2,
   "metadata": {},
   "outputs": [
    {
     "data": {
      "text/plain": [
       "0.09072"
      ]
     },
     "execution_count": 2,
     "metadata": {},
     "output_type": "execute_result"
    }
   ],
   "source": [
    "import numpy as np\n",
    "np.mean([0.0881, 0.0904, 0.0967, 0.0946, 0.0838])"
   ]
  },
  {
   "cell_type": "code",
   "execution_count": 3,
   "metadata": {},
   "outputs": [
    {
     "data": {
      "text/plain": [
       "0.7957000000000001"
      ]
     },
     "execution_count": 3,
     "metadata": {},
     "output_type": "execute_result"
    }
   ],
   "source": [
    "np.mean([0.6886, 0.6391, 0.6075, 0.9210, 1.1223])"
   ]
  },
  {
   "cell_type": "code",
   "execution_count": 2,
   "metadata": {},
   "outputs": [
    {
     "data": {
      "text/plain": [
       "0.08902000000000002"
      ]
     },
     "execution_count": 2,
     "metadata": {},
     "output_type": "execute_result"
    }
   ],
   "source": [
    "np.mean([0.0869, 0.0984, 0.0895, 0.0849, 0.0854])"
   ]
  },
  {
   "cell_type": "code",
   "execution_count": 3,
   "metadata": {},
   "outputs": [
    {
     "data": {
      "text/plain": [
       "0.62722"
      ]
     },
     "execution_count": 3,
     "metadata": {},
     "output_type": "execute_result"
    }
   ],
   "source": [
    "np.mean([0.6263, 0.4892, 0.5520, 0.7049, 0.7637])\n"
   ]
  },
  {
   "cell_type": "code",
   "execution_count": null,
   "metadata": {},
   "outputs": [],
   "source": [
    "np.mean([0.6263, 0.4892, 0.5520, 0.7049, 0.7637])"
   ]
  },
  {
   "cell_type": "code",
   "execution_count": 1,
   "metadata": {},
   "outputs": [
    {
     "data": {
      "text/plain": [
       "7326.5512499999995"
      ]
     },
     "execution_count": 1,
     "metadata": {},
     "output_type": "execute_result"
    }
   ],
   "source": [
    "(121.050**2) / 2"
   ]
  },
  {
   "cell_type": "code",
   "execution_count": 2,
   "metadata": {},
   "outputs": [
    {
     "data": {
      "text/plain": [
       "47350.07298"
      ]
     },
     "execution_count": 2,
     "metadata": {},
     "output_type": "execute_result"
    }
   ],
   "source": [
    "((121.090+120.970+121.570+122.940)**2) / 5"
   ]
  },
  {
   "cell_type": "code",
   "execution_count": 3,
   "metadata": {},
   "outputs": [
    {
     "data": {
      "text/plain": [
       "54676.624229999994"
      ]
     },
     "execution_count": 3,
     "metadata": {},
     "output_type": "execute_result"
    }
   ],
   "source": [
    "7326.5512499999995 + 47350.07298"
   ]
  },
  {
   "cell_type": "code",
   "execution_count": 4,
   "metadata": {},
   "outputs": [
    {
     "data": {
      "text/plain": [
       "61533.67740000001"
      ]
     },
     "execution_count": 4,
     "metadata": {},
     "output_type": "execute_result"
    }
   ],
   "source": [
    "((121.090+121.570+122.940+121.050+120.970)**2) / 6"
   ]
  },
  {
   "cell_type": "code",
   "execution_count": 5,
   "metadata": {},
   "outputs": [
    {
     "data": {
      "text/plain": [
       "6857.053170000014"
      ]
     },
     "execution_count": 5,
     "metadata": {},
     "output_type": "execute_result"
    }
   ],
   "source": [
    "61533.67740000001 - 54676.624229999994"
   ]
  },
  {
   "cell_type": "code",
   "execution_count": 6,
   "metadata": {},
   "outputs": [
    {
     "data": {
      "text/plain": [
       "101.27"
      ]
     },
     "execution_count": 6,
     "metadata": {},
     "output_type": "execute_result"
    }
   ],
   "source": [
    "(121.090+121.570+122.940+121.050+120.970) / 6"
   ]
  },
  {
   "cell_type": "code",
   "execution_count": 7,
   "metadata": {},
   "outputs": [
    {
     "data": {
      "text/plain": [
       "30.880999999999997"
      ]
     },
     "execution_count": 7,
     "metadata": {},
     "output_type": "execute_result"
    }
   ],
   "source": [
    "0.5 + (0.3 * 101.27)"
   ]
  },
  {
   "cell_type": "code",
   "execution_count": 11,
   "metadata": {},
   "outputs": [],
   "source": [
    "from sklearn.metrics import mean_squared_error, mean_absolute_percentage_error, r2_score"
   ]
  },
  {
   "cell_type": "code",
   "execution_count": 9,
   "metadata": {},
   "outputs": [
    {
     "data": {
      "text/plain": [
       "33.69149479999988"
      ]
     },
     "execution_count": 9,
     "metadata": {},
     "output_type": "execute_result"
    }
   ],
   "source": [
    "pred = [158.106,\n",
    "176.766,\n",
    "178.621,\n",
    "130.475,\n",
    "120.974]\n",
    "\n",
    "real = [150.580,\n",
    "169.360,\n",
    "173.930,\n",
    "125.850,\n",
    "117.290]\n",
    "\n",
    "mse = mean_squared_error(real, pred)\n",
    "mse"
   ]
  },
  {
   "cell_type": "code",
   "execution_count": 12,
   "metadata": {},
   "outputs": [
    {
     "data": {
      "text/plain": [
       "(0.03776789159922124, 0.9343810953829917)"
      ]
     },
     "execution_count": 12,
     "metadata": {},
     "output_type": "execute_result"
    }
   ],
   "source": [
    "mape = mean_absolute_percentage_error(real, pred)\n",
    "r2 = r2_score(real, pred)\n",
    "\n",
    "mape, r2"
   ]
  },
  {
   "cell_type": "code",
   "execution_count": 13,
   "metadata": {},
   "outputs": [
    {
     "data": {
      "text/plain": [
       "33.69149479999988"
      ]
     },
     "execution_count": 13,
     "metadata": {},
     "output_type": "execute_result"
    }
   ],
   "source": [
    "((158.106-  150.580)**2 + (176.766-  169.360)**2 + (178.621-  173.930)**2 + (130.475-  125.850)**2 + (120.974-  117.290)**2) / 5"
   ]
  },
  {
   "cell_type": "code",
   "execution_count": null,
   "metadata": {},
   "outputs": [],
   "source": [
    "# make r2 score based on pred and real\n",
    "()"
   ]
  }
 ],
 "metadata": {
  "kernelspec": {
   "display_name": "Python 3",
   "language": "python",
   "name": "python3"
  },
  "language_info": {
   "codemirror_mode": {
    "name": "ipython",
    "version": 3
   },
   "file_extension": ".py",
   "mimetype": "text/x-python",
   "name": "python",
   "nbconvert_exporter": "python",
   "pygments_lexer": "ipython3",
   "version": "3.9.2rc1"
  },
  "orig_nbformat": 4,
  "vscode": {
   "interpreter": {
    "hash": "396c88b014bd8bfe05d6f1c112e64c0d1a9d3707305bd921cfc13ff3bcbcb566"
   }
  }
 },
 "nbformat": 4,
 "nbformat_minor": 2
}
